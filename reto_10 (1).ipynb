{
  "nbformat": 4,
  "nbformat_minor": 0,
  "metadata": {
    "colab": {
      "provenance": []
    },
    "kernelspec": {
      "name": "python3",
      "display_name": "Python 3"
    },
    "language_info": {
      "name": "python"
    }
  },
  "cells": [
    {
      "cell_type": "markdown",
      "source": [
        "1. Desarrolle un programa que permita realizar la suma/resta de matrices. El programa debe validar las condiciones necesarias para ejecutar la operación."
      ],
      "metadata": {
        "id": "6FCjaZDYGoas"
      }
    },
    {
      "cell_type": "code",
      "execution_count": 39,
      "metadata": {
        "colab": {
          "base_uri": "https://localhost:8080/"
        },
        "id": "IQ030u3ed-9E",
        "outputId": "9c9f62a1-bca6-4391-b68e-e0693e20a64e"
      },
      "outputs": [
        {
          "output_type": "stream",
          "name": "stdout",
          "text": [
            "Ingrese el número de filas: 2\n",
            "Ingrese el número de columnas: 2\n",
            "Ingrese un número de la posición [1][1] de la matriz: 1\n",
            "Ingrese un número de la posición [1][2] de la matriz: 2\n",
            "Ingrese un número de la posición [2][1] de la matriz: 3\n",
            "Ingrese un número de la posición [2][2] de la matriz: 4\n",
            "Ingrese un número de la posición [1][1] de la matriz: 2\n",
            "Ingrese un número de la posición [1][2] de la matriz: 4\n",
            "Ingrese un número de la posición [2][1] de la matriz: 6\n",
            "Ingrese un número de la posición [2][2] de la matriz: 1\n",
            "\n",
            "Matriz A: \n",
            "[1, 2]\n",
            "[3, 4]\n",
            "\n",
            "Matriz B: \n",
            "[2, 4]\n",
            "[6, 1]\n",
            "\n",
            "Matriz A + B: \n",
            "[3, 6]\n",
            "[9, 5]\n",
            "\n",
            "Matriz A - B: \n",
            "[-1, -2]\n",
            "[-3, 3]\n"
          ]
        }
      ],
      "source": [
        "def intro_matriz(f, c):#creamos la matriz dándole el tamaño de las filas y columnas.\n",
        "  filas = []\n",
        "  mat = []\n",
        "  for i in range(f):\n",
        "    for j in range(c):\n",
        "        num = int(input('Ingrese un número de la posición ' + \\\n",
        "                        str([i+1])+str([j+1]) + ' de la matriz: '))\n",
        "        #Ingresamos los números.\n",
        "        filas.append(num) #Le agregamos esos números a filas.\n",
        "    mat.append(filas) #Agregamos esas filas a la matriz.\n",
        "    filas = [] #Volvemos a darla como vacía para que cambie de fila.\n",
        "  return mat #La matriz ya hecha.\n",
        "\n",
        "def imp_matriz(mat):\n",
        "  for i in range(len(mat)): print(mat[i]) #Imprime las matrices en su formato.\n",
        "\n",
        "def sum_matriz(A, B, f, c): #Las dos matrices y el tamaño como argumentos.\n",
        "  fila = [] #Lista vacía para agregarle elementos.\n",
        "  A_mas_B = [] #Lista vacía para agregarle otras listas.\n",
        "  #las siguientes dos líneas son para ordenar los números según su indexación\n",
        "  for i in range(f): #En tantas filas\n",
        "    for j in range(c): #Cantidad de elementos en la fila.\n",
        "          fila.append(A[i][j] + B[i][j]) #Hacemos que se sumen componente a componente y se añadan a la fila\n",
        "    A_mas_B.append(fila) #Agregamos la fila a la matriz.\n",
        "    fila = [] #Volvemos a darla como vacía para que cambie de fila.\n",
        "  return A_mas_B #Nos devuelve la matriz sumada\n",
        "\n",
        "#Hacemmos el mismo proceso, solo que reemplazando el + por el -.\n",
        "def resta_matriz(A, B, f, c):\n",
        "  fila = []\n",
        "  A_menos_B = []\n",
        "  for i in range(f):\n",
        "    for j in range(c):\n",
        "          fila.append(A[i][j] - B[i][j]) #Acá reemplazamos.\n",
        "    A_menos_B.append(fila)\n",
        "    fila = []\n",
        "  return A_menos_B\n",
        "\n",
        "if __name__ == \"__main__\":\n",
        "  #Pedimos una sola cantidad de filas para ambas matrices.\n",
        "  Filas = int(input(\"Ingrese el número de filas: \"))\n",
        "  #Pedimos una sola cantidad de columnas para ambas matrices.\n",
        "  Cols = int(input(\"Ingrese el número de columnas: \"))\n",
        "  A = intro_matriz(Filas, Cols) #Aplicamos la función para crear la matriz A.\n",
        "  B = intro_matriz(Filas, Cols) #Aplicamos la función para crear la matriz B.\n",
        "  print(\"\")\n",
        "  print(\"Matriz A: \")\n",
        "  MatA = imp_matriz(A) #Mostramos A\n",
        "  print(\"\")\n",
        "  print(\"Matriz B: \")\n",
        "  MatB = imp_matriz(B) #Mostramos B\n",
        "  print(\"\")\n",
        "  print(\"Matriz A + B: \")\n",
        "  A_con_B = sum_matriz(A, B, Filas, Cols)\n",
        "  imp_matriz(A_con_B) #Mostramos la suma de A y B\n",
        "  print(\"\")\n",
        "  print(\"Matriz A - B: \")\n",
        "  A_sin_B = resta_matriz(A, B, Filas, Cols)\n",
        "  imp_matriz(A_sin_B) #Mostramos la resta de A y B\n"
      ]
    },
    {
      "cell_type": "markdown",
      "source": [
        "2. Desarrolle un programa que permita realizar el producto de matrices. El programa debe validar las condiciones necesarias para ejecutar la operación."
      ],
      "metadata": {
        "id": "e78XjtgmGni2"
      }
    },
    {
      "cell_type": "code",
      "source": [
        "def intro_matriz(f, c):#creamos la matriz dándole el tamaño de las filas y columnas.\n",
        "  filas = []\n",
        "  mat = []\n",
        "  for i in range(f):\n",
        "    for j in range(c):\n",
        "        num = int(input('Ingrese un número de la posición ' + \\\n",
        "                        str([i+1])+str([j+1]) + ' de la matriz: '))\n",
        "        #Ingresamos los números.\n",
        "        filas.append(num) #Le agregamos esos números a filas.\n",
        "    mat.append(filas) #Agregamos esas filas a la matriz.\n",
        "    filas = [] #Volvemos a darla como vacía para que cambie de fila.\n",
        "  return mat #La matriz ya hecha.\n",
        "\n",
        "def imp_matriz(mat):\n",
        "  for i in range(len(mat)): print(mat[i]) #Imprime las matrices en su formato.\n",
        "\n",
        "def mul_matriz(A, B, cA, fB):\n",
        "    fila = []\n",
        "    mat = []\n",
        "    for i in range(len(A)):\n",
        "    #Rango es la cantidad de elementos de A, es decir número de filas\n",
        "      for j in range(len(B[0])):\n",
        "      #Rango es la cantidad de elementos que tiene la fila 0 de B -> columnas\n",
        "        suma = 0 #donde vamos a almacenar las sumas\n",
        "        for k in range(len(B)): #EL rango es las filas de B\n",
        "          suma += A[i][k] * B[k][j] #Multiplica fila por columna\n",
        "        fila.append(suma) #Agregamos el valor a la fila\n",
        "      mat.append(fila) #Agregamos la fila a la matriz\n",
        "      fila = [] #Para que ciere la fila al acabar la iteración\n",
        "    return mat\n",
        "\n",
        "if __name__ == \"__main__\":\n",
        "  #Pedimos cantidad de filas de la matriz A\n",
        "  FilasA = int(input(\"Ingrese el número de filas de A: \"))\n",
        "  #Pedimos cantidad de columnas de la matriz A\n",
        "  ColsA = int(input(\"Ingrese el número de columnas de A: \"))\n",
        "  #Pedimos cantidad de filas de la matriz B\n",
        "  FilasB = int(input(\"Ingrese el número de filas de B: \"))\n",
        "  #Pedimos cantidad de columnas de la matriz B\n",
        "  ColsB = int(input(\"Ingrese el número de columnas de B: \"))\n",
        "  if ColsA < FilasB:\n",
        "    print(\"La matriz está idefinida.\")\n",
        "  else:\n",
        "    A = intro_matriz(FilasA, ColsA) #Aplicamos la función para crear la matriz A.\n",
        "    B = intro_matriz(FilasB, ColsB) #Aplicamos la función para crear la matriz B.\n",
        "    print(\"\")\n",
        "    print(\"Matriz A: \")\n",
        "    MatA = imp_matriz(A) #Mostramos A\n",
        "    print(\"\")\n",
        "    print(\"Matriz B: \")\n",
        "    MatB = imp_matriz(B) #Mostramos B\n",
        "    print(\"\")\n",
        "    print(\"Matriz A*B: \")\n",
        "    AB = mul_matriz(A, B, ColsA, FilasB)\n",
        "    imp_matriz(AB)"
      ],
      "metadata": {
        "colab": {
          "base_uri": "https://localhost:8080/"
        },
        "id": "1iIGp1ioAOJR",
        "outputId": "cfdd230b-fc18-452e-96dd-83a9b20a4e02"
      },
      "execution_count": 55,
      "outputs": [
        {
          "output_type": "stream",
          "name": "stdout",
          "text": [
            "Ingrese el número de filas de A: 3\n",
            "Ingrese el número de columnas de A: 2\n",
            "Ingrese el número de filas de B: 2\n",
            "Ingrese el número de columnas de B: 3\n",
            "Ingrese un número de la posición [1][1] de la matriz: 4\n",
            "Ingrese un número de la posición [1][2] de la matriz: 3\n",
            "Ingrese un número de la posición [2][1] de la matriz: 2\n",
            "Ingrese un número de la posición [2][2] de la matriz: 1\n",
            "Ingrese un número de la posición [3][1] de la matriz: 7\n",
            "Ingrese un número de la posición [3][2] de la matriz: 5\n",
            "Ingrese un número de la posición [1][1] de la matriz: 4\n",
            "Ingrese un número de la posición [1][2] de la matriz: 6\n",
            "Ingrese un número de la posición [1][3] de la matriz: 0\n",
            "Ingrese un número de la posición [2][1] de la matriz: 9\n",
            "Ingrese un número de la posición [2][2] de la matriz: 5\n",
            "Ingrese un número de la posición [2][3] de la matriz: 3\n",
            "\n",
            "Matriz A: \n",
            "[4, 3]\n",
            "[2, 1]\n",
            "[7, 5]\n",
            "\n",
            "Matriz B: \n",
            "[4, 6, 0]\n",
            "[9, 5, 3]\n",
            "\n",
            "Matriz A*B: \n",
            "[43, 39, 9]\n",
            "[17, 17, 3]\n",
            "[73, 67, 15]\n"
          ]
        }
      ]
    },
    {
      "cell_type": "markdown",
      "source": [
        "3. Desarrolle un programa que permita obtener la matriz transpuesta de una matriz ingresada. El programa debe validar las condiciones necesarias para ejecutar la operación."
      ],
      "metadata": {
        "id": "0YtacnWNANt2"
      }
    },
    {
      "cell_type": "code",
      "source": [
        "def intro_matriz(f, c):#creamos la matriz dándole el tamaño de las filas y columnas.\n",
        "  filas = []\n",
        "  mat = []\n",
        "  for i in range(f):\n",
        "    for j in range(c):\n",
        "        num = int(input('Ingrese un número de la posición ' + \\\n",
        "                        str([i+1])+str([j+1]) + ' de la matriz: '))\n",
        "        #Ingresamos los números.\n",
        "        filas.append(num) #Le agregamos esos números a filas.\n",
        "    mat.append(filas) #Agregamos esas filas a la matriz.\n",
        "    filas = [] #Volvemos a darla como vacía para que cambie de fila.\n",
        "  return mat #La matriz ya hecha.\n",
        "\n",
        "def imp_matriz(mat):\n",
        "  for i in range(len(mat)): print(mat[i]) #Imprime las matrices en su formato.\n",
        "\n",
        "def matriz_transpuesta(mat, c, f):\n",
        "  mat_trans = []\n",
        "  fila_trans = []\n",
        "  for j in range(c):#Al poner primero j que i cambiaran columnas por filas\n",
        "      for i in range(f):\n",
        "          fila_trans.append(mat[i][j])#Agregamos la posición que teníamos a Filas\n",
        "      mat_trans.append(fila_trans)#Añadimos las Filas a la Matriz\n",
        "      fila_trans = [] #La damos vacía para que cierre ahí la Fila\n",
        "  return mat_trans\n",
        "\n",
        "if __name__ == \"__main__\":\n",
        "  #Pedimos la cantidad de filas de la matriz\n",
        "  Filas = int(input(\"Ingrese el número de filas: \"))\n",
        "  #Pedimos la cantidad de columnas para la matriz.\n",
        "  Cols = int(input(\"Ingrese el número de columnas: \"))\n",
        "  A = intro_matriz(Filas, Cols) #Aplicamos la función para crear la matriz A.\n",
        "  print(\"\")\n",
        "  print(\"Matriz A: \")\n",
        "  MatA = imp_matriz(A) #Mostramos A\n",
        "  print(\" \")\n",
        "  A_trans = matriz_transpuesta(A, Cols, Filas)\n",
        "  imp_matriz(A_trans)"
      ],
      "metadata": {
        "colab": {
          "base_uri": "https://localhost:8080/"
        },
        "id": "2yGfpsh7mZWf",
        "outputId": "c60f9fd5-89f2-4486-fa39-5d95a8b69411"
      },
      "execution_count": 58,
      "outputs": [
        {
          "output_type": "stream",
          "name": "stdout",
          "text": [
            "Ingrese el número de filas: 3\n",
            "Ingrese el número de columnas: 2\n",
            "Ingrese un número de la posición [1][1] de la matriz: 1\n",
            "Ingrese un número de la posición [1][2] de la matriz: 4\n",
            "Ingrese un número de la posición [2][1] de la matriz: 2\n",
            "Ingrese un número de la posición [2][2] de la matriz: 7\n",
            "Ingrese un número de la posición [3][1] de la matriz: 5\n",
            "Ingrese un número de la posición [3][2] de la matriz: 3\n",
            "\n",
            "Matriz A: \n",
            "[1, 4]\n",
            "[2, 7]\n",
            "[5, 3]\n",
            " \n",
            "[1, 2, 5]\n",
            "[4, 7, 3]\n"
          ]
        }
      ]
    },
    {
      "cell_type": "markdown",
      "source": [
        "4. Desarrollar un programa que sume los elementos de una columna dada de una matriz.\n",
        "\n"
      ],
      "metadata": {
        "id": "gv70cP14y1Ge"
      }
    },
    {
      "cell_type": "code",
      "source": [
        "def intro_matriz(f, c):#creamos la matriz dándole el tamaño de las filas y columnas.\n",
        "  filas = []\n",
        "  mat = []\n",
        "  for i in range(f):\n",
        "    for j in range(c):\n",
        "        num = int(input('Ingrese un número de la posición ' + \\\n",
        "                        str([i+1])+str([j+1]) + ' de la matriz: '))\n",
        "        #Ingresamos los números.\n",
        "        filas.append(num) #Le agregamos esos números a filas.\n",
        "    mat.append(filas) #Agregamos esas filas a la matriz.\n",
        "    filas = [] #Volvemos a darla como vacía para que cambie de fila.\n",
        "  return mat #La matriz ya hecha.\n",
        "\n",
        "def imp_matriz(mat):\n",
        "  for i in range(len(mat)): print(mat[i]) #Imprime las matrices en su formato.\n",
        "\n",
        "def suma_columna(mat, c): #Le damos una matriz y una columna\n",
        "  suma = 0\n",
        "  for fila in mat: #Itera en cada elemento de la matriz (fila)\n",
        "    suma += fila[c] #Suma solo el valor que está en la posición que se le pide.\n",
        "  return suma #devuelve el total de la suma\n",
        "\n",
        "if __name__ == \"__main__\":\n",
        "  #Pedimos la cantidad de filas de la matriz\n",
        "  Filas = int(input(\"Ingrese el número de filas: \"))\n",
        "  #Pedimos la cantidad de columnas para la matriz.\n",
        "  Cols = int(input(\"Ingrese el número de columnas: \"))\n",
        "  A = intro_matriz(Filas, Cols) #Aplicamos la función para crear la matriz A.\n",
        "  print(\"\")\n",
        "  print(\"Matriz A: \")\n",
        "  MatA = imp_matriz(A) #Mostramos A\n",
        "  print(\" \")\n",
        "  col = int(input(\"Ingrese la columna que desea sumar: \"))\n",
        "  #La columna que queremos calcular\n",
        "  suma_col = suma_columna(A, col) #aplicamos la función.\n",
        "  print(\" \")\n",
        "  print(\"El resultado de la suma de la columna \" + str(col) + \\\n",
        "        \" es \" + str(suma_col))"
      ],
      "metadata": {
        "colab": {
          "base_uri": "https://localhost:8080/"
        },
        "id": "h2ywzZs1zUbT",
        "outputId": "6b94676e-a5f9-4059-bf0f-1857bb9bcb4d"
      },
      "execution_count": 62,
      "outputs": [
        {
          "output_type": "stream",
          "name": "stdout",
          "text": [
            "Ingrese el número de filas: 5\n",
            "Ingrese el número de columnas: 3\n",
            "Ingrese un número de la posición [1][1] de la matriz: 2\n",
            "Ingrese un número de la posición [1][2] de la matriz: 11\n",
            "Ingrese un número de la posición [1][3] de la matriz: 3\n",
            "Ingrese un número de la posición [2][1] de la matriz: 5\n",
            "Ingrese un número de la posición [2][2] de la matriz: 9\n",
            "Ingrese un número de la posición [2][3] de la matriz: 8\n",
            "Ingrese un número de la posición [3][1] de la matriz: 0\n",
            "Ingrese un número de la posición [3][2] de la matriz: 7\n",
            "Ingrese un número de la posición [3][3] de la matriz: 6\n",
            "Ingrese un número de la posición [4][1] de la matriz: 2\n",
            "Ingrese un número de la posición [4][2] de la matriz: 3\n",
            "Ingrese un número de la posición [4][3] de la matriz: 4\n",
            "Ingrese un número de la posición [5][1] de la matriz: 1\n",
            "Ingrese un número de la posición [5][2] de la matriz: 2\n",
            "Ingrese un número de la posición [5][3] de la matriz: 5\n",
            "\n",
            "Matriz A: \n",
            "[2, 11, 3]\n",
            "[5, 9, 8]\n",
            "[0, 7, 6]\n",
            "[2, 3, 4]\n",
            "[1, 2, 5]\n",
            " \n",
            "Ingrese la columna que desea sumar: 0\n",
            " \n",
            "El resultado de la suma de la columna 0 es 10\n"
          ]
        }
      ]
    },
    {
      "cell_type": "markdown",
      "source": [],
      "metadata": {
        "id": "BOnZ-uua2ezb"
      }
    },
    {
      "cell_type": "code",
      "source": [
        "def intro_matriz(f, c):#creamos la matriz dándole el tamaño de las filas y columnas.\n",
        "  filas = []\n",
        "  mat = []\n",
        "  for i in range(f):\n",
        "    for j in range(c):\n",
        "        num = int(input('Ingrese un número de la posición ' + \\\n",
        "                        str([i+1])+str([j+1]) + ' de la matriz: '))\n",
        "        #Ingresamos los números.\n",
        "        filas.append(num) #Le agregamos esos números a filas.\n",
        "    mat.append(filas) #Agregamos esas filas a la matriz.\n",
        "    filas = [] #Volvemos a darla como vacía para que cambie de fila.\n",
        "  return mat #La matriz ya hecha.\n",
        "\n",
        "def imp_matriz(mat):\n",
        "  for i in range(len(mat)): print(mat[i]) #Imprime las matrices en su formato.\n",
        "\n",
        "def suma_columna(mat,f):#Le vamos a dar una matriz y una fila\n",
        "  suma = 0\n",
        "  for n in mat[f]:#Iteramos n en los elementos del elemento de la matriz (en esa fila).\n",
        "    suma += n #Sumamos ese valor a la cuenta.\n",
        "  return suma\n",
        "\n",
        "if __name__ == \"__main__\":\n",
        "  #Pedimos la cantidad de filas de la matriz\n",
        "  Filas = int(input(\"Ingrese el número de filas: \"))\n",
        "  #Pedimos la cantidad de columnas para la matriz.\n",
        "  Cols = int(input(\"Ingrese el número de columnas: \"))\n",
        "  A = intro_matriz(Filas, Cols) #Aplicamos la función para crear la matriz A.\n",
        "  print(\"\")\n",
        "  print(\"Matriz A: \")\n",
        "  MatA = imp_matriz(A) #Mostramos A\n",
        "  print(\" \")\n",
        "  fil = int(input(\"Ingrese la columna que desea sumar: \"))\n",
        "  suma_col = suma_columna(A, fil)\n",
        "  print(\" \")\n",
        "  print(\"El resultado de la suma de la fila \" + str(col) + \\\n",
        "        \" es \" + str(suma_col))"
      ],
      "metadata": {
        "colab": {
          "base_uri": "https://localhost:8080/"
        },
        "id": "hKsnOsKy2fcp",
        "outputId": "e279d969-e1db-4829-deab-607ae20b6302"
      },
      "execution_count": 66,
      "outputs": [
        {
          "output_type": "stream",
          "name": "stdout",
          "text": [
            "Ingrese el número de filas: 4\n",
            "Ingrese el número de columnas: 3\n",
            "Ingrese un número de la posición [1][1] de la matriz: 1\n",
            "Ingrese un número de la posición [1][2] de la matriz: 2\n",
            "Ingrese un número de la posición [1][3] de la matriz: 5\n",
            "Ingrese un número de la posición [2][1] de la matriz: 3\n",
            "Ingrese un número de la posición [2][2] de la matriz: 2\n",
            "Ingrese un número de la posición [2][3] de la matriz: 7\n",
            "Ingrese un número de la posición [3][1] de la matriz: 5\n",
            "Ingrese un número de la posición [3][2] de la matriz: 1\n",
            "Ingrese un número de la posición [3][3] de la matriz: 0\n",
            "Ingrese un número de la posición [4][1] de la matriz: 3\n",
            "Ingrese un número de la posición [4][2] de la matriz: 2\n",
            "Ingrese un número de la posición [4][3] de la matriz: 5\n",
            "\n",
            "Matriz A: \n",
            "[1, 2, 5]\n",
            "[3, 2, 7]\n",
            "[5, 1, 0]\n",
            "[3, 2, 5]\n",
            " \n",
            "Ingrese la columna que desea sumar: 1\n",
            " \n",
            "El resultado de la suma de la fila 1 es 12\n"
          ]
        }
      ]
    }
  ]
}